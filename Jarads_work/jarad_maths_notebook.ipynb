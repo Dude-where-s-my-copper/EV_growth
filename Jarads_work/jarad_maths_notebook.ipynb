{
 "cells": [
  {
   "cell_type": "code",
   "execution_count": 1,
   "metadata": {},
   "outputs": [],
   "source": [
    "import pandas as pd\n",
    "import numpy as np"
   ]
  },
  {
   "cell_type": "code",
   "execution_count": 2,
   "metadata": {},
   "outputs": [],
   "source": [
    "cars = pd.read_csv('pred_sales_bands.csv')"
   ]
  },
  {
   "cell_type": "code",
   "execution_count": 3,
   "metadata": {},
   "outputs": [
    {
     "data": {
      "text/html": [
       "<div>\n",
       "<style scoped>\n",
       "    .dataframe tbody tr th:only-of-type {\n",
       "        vertical-align: middle;\n",
       "    }\n",
       "\n",
       "    .dataframe tbody tr th {\n",
       "        vertical-align: top;\n",
       "    }\n",
       "\n",
       "    .dataframe thead th {\n",
       "        text-align: right;\n",
       "    }\n",
       "</style>\n",
       "<table border=\"1\" class=\"dataframe\">\n",
       "  <thead>\n",
       "    <tr style=\"text-align: right;\">\n",
       "      <th></th>\n",
       "      <th>year</th>\n",
       "      <th>sales</th>\n",
       "      <th>midband</th>\n",
       "      <th>ub</th>\n",
       "      <th>lb</th>\n",
       "    </tr>\n",
       "  </thead>\n",
       "  <tbody>\n",
       "    <tr>\n",
       "      <th>0</th>\n",
       "      <td>2012-01-01</td>\n",
       "      <td>6033.703635</td>\n",
       "      <td>6033.703635</td>\n",
       "      <td>NaN</td>\n",
       "      <td>NaN</td>\n",
       "    </tr>\n",
       "    <tr>\n",
       "      <th>1</th>\n",
       "      <td>2012-02-01</td>\n",
       "      <td>6041.748220</td>\n",
       "      <td>6038.061119</td>\n",
       "      <td>6055.126260</td>\n",
       "      <td>6020.995977</td>\n",
       "    </tr>\n",
       "    <tr>\n",
       "      <th>2</th>\n",
       "      <td>2012-03-01</td>\n",
       "      <td>6180.962307</td>\n",
       "      <td>6093.835485</td>\n",
       "      <td>6351.415837</td>\n",
       "      <td>5836.255133</td>\n",
       "    </tr>\n",
       "    <tr>\n",
       "      <th>3</th>\n",
       "      <td>2012-04-01</td>\n",
       "      <td>6148.752098</td>\n",
       "      <td>6111.170514</td>\n",
       "      <td>6331.081644</td>\n",
       "      <td>5891.259384</td>\n",
       "    </tr>\n",
       "    <tr>\n",
       "      <th>4</th>\n",
       "      <td>2012-05-01</td>\n",
       "      <td>6187.497036</td>\n",
       "      <td>6131.908157</td>\n",
       "      <td>6346.954525</td>\n",
       "      <td>5916.861790</td>\n",
       "    </tr>\n",
       "  </tbody>\n",
       "</table>\n",
       "</div>"
      ],
      "text/plain": [
       "         year        sales      midband           ub           lb\n",
       "0  2012-01-01  6033.703635  6033.703635          NaN          NaN\n",
       "1  2012-02-01  6041.748220  6038.061119  6055.126260  6020.995977\n",
       "2  2012-03-01  6180.962307  6093.835485  6351.415837  5836.255133\n",
       "3  2012-04-01  6148.752098  6111.170514  6331.081644  5891.259384\n",
       "4  2012-05-01  6187.497036  6131.908157  6346.954525  5916.861790"
      ]
     },
     "execution_count": 3,
     "metadata": {},
     "output_type": "execute_result"
    }
   ],
   "source": [
    "cars.head()"
   ]
  },
  {
   "cell_type": "code",
   "execution_count": 5,
   "metadata": {},
   "outputs": [],
   "source": [
    "cars = cars.round()"
   ]
  },
  {
   "cell_type": "code",
   "execution_count": 8,
   "metadata": {},
   "outputs": [
    {
     "data": {
      "text/plain": [
       "year        object\n",
       "sales      float64\n",
       "midband    float64\n",
       "ub         float64\n",
       "lb         float64\n",
       "dtype: object"
      ]
     },
     "execution_count": 8,
     "metadata": {},
     "output_type": "execute_result"
    }
   ],
   "source": [
    "cars.dtypes"
   ]
  },
  {
   "cell_type": "code",
   "execution_count": 9,
   "metadata": {},
   "outputs": [],
   "source": [
    "last_year_sales = cars.loc[cars.year.str.contains('2030',regex=True)]"
   ]
  },
  {
   "cell_type": "code",
   "execution_count": 10,
   "metadata": {},
   "outputs": [
    {
     "data": {
      "text/html": [
       "<div>\n",
       "<style scoped>\n",
       "    .dataframe tbody tr th:only-of-type {\n",
       "        vertical-align: middle;\n",
       "    }\n",
       "\n",
       "    .dataframe tbody tr th {\n",
       "        vertical-align: top;\n",
       "    }\n",
       "\n",
       "    .dataframe thead th {\n",
       "        text-align: right;\n",
       "    }\n",
       "</style>\n",
       "<table border=\"1\" class=\"dataframe\">\n",
       "  <thead>\n",
       "    <tr style=\"text-align: right;\">\n",
       "      <th></th>\n",
       "      <th>year</th>\n",
       "      <th>sales</th>\n",
       "      <th>midband</th>\n",
       "      <th>ub</th>\n",
       "      <th>lb</th>\n",
       "    </tr>\n",
       "  </thead>\n",
       "  <tbody>\n",
       "    <tr>\n",
       "      <th>216</th>\n",
       "      <td>2030-01-01</td>\n",
       "      <td>6819.0</td>\n",
       "      <td>6916.0</td>\n",
       "      <td>7238.0</td>\n",
       "      <td>6593.0</td>\n",
       "    </tr>\n",
       "    <tr>\n",
       "      <th>217</th>\n",
       "      <td>2030-02-01</td>\n",
       "      <td>6828.0</td>\n",
       "      <td>6902.0</td>\n",
       "      <td>7215.0</td>\n",
       "      <td>6589.0</td>\n",
       "    </tr>\n",
       "    <tr>\n",
       "      <th>218</th>\n",
       "      <td>2030-03-01</td>\n",
       "      <td>6985.0</td>\n",
       "      <td>6915.0</td>\n",
       "      <td>7218.0</td>\n",
       "      <td>6612.0</td>\n",
       "    </tr>\n",
       "    <tr>\n",
       "      <th>219</th>\n",
       "      <td>2030-04-01</td>\n",
       "      <td>6949.0</td>\n",
       "      <td>6920.0</td>\n",
       "      <td>7201.0</td>\n",
       "      <td>6639.0</td>\n",
       "    </tr>\n",
       "    <tr>\n",
       "      <th>220</th>\n",
       "      <td>2030-05-01</td>\n",
       "      <td>6993.0</td>\n",
       "      <td>6931.0</td>\n",
       "      <td>7203.0</td>\n",
       "      <td>6660.0</td>\n",
       "    </tr>\n",
       "    <tr>\n",
       "      <th>221</th>\n",
       "      <td>2030-06-01</td>\n",
       "      <td>6929.0</td>\n",
       "      <td>6931.0</td>\n",
       "      <td>7181.0</td>\n",
       "      <td>6682.0</td>\n",
       "    </tr>\n",
       "    <tr>\n",
       "      <th>222</th>\n",
       "      <td>2030-07-01</td>\n",
       "      <td>7075.0</td>\n",
       "      <td>6953.0</td>\n",
       "      <td>7234.0</td>\n",
       "      <td>6672.0</td>\n",
       "    </tr>\n",
       "    <tr>\n",
       "      <th>223</th>\n",
       "      <td>2030-08-01</td>\n",
       "      <td>7248.0</td>\n",
       "      <td>6999.0</td>\n",
       "      <td>7421.0</td>\n",
       "      <td>6577.0</td>\n",
       "    </tr>\n",
       "    <tr>\n",
       "      <th>224</th>\n",
       "      <td>2030-09-01</td>\n",
       "      <td>6904.0</td>\n",
       "      <td>6984.0</td>\n",
       "      <td>7387.0</td>\n",
       "      <td>6581.0</td>\n",
       "    </tr>\n",
       "    <tr>\n",
       "      <th>225</th>\n",
       "      <td>2030-10-01</td>\n",
       "      <td>6991.0</td>\n",
       "      <td>6985.0</td>\n",
       "      <td>7356.0</td>\n",
       "      <td>6615.0</td>\n",
       "    </tr>\n",
       "    <tr>\n",
       "      <th>226</th>\n",
       "      <td>2030-11-01</td>\n",
       "      <td>6919.0</td>\n",
       "      <td>6975.0</td>\n",
       "      <td>7324.0</td>\n",
       "      <td>6626.0</td>\n",
       "    </tr>\n",
       "    <tr>\n",
       "      <th>227</th>\n",
       "      <td>2030-12-01</td>\n",
       "      <td>7011.0</td>\n",
       "      <td>6980.0</td>\n",
       "      <td>7304.0</td>\n",
       "      <td>6657.0</td>\n",
       "    </tr>\n",
       "  </tbody>\n",
       "</table>\n",
       "</div>"
      ],
      "text/plain": [
       "           year   sales  midband      ub      lb\n",
       "216  2030-01-01  6819.0   6916.0  7238.0  6593.0\n",
       "217  2030-02-01  6828.0   6902.0  7215.0  6589.0\n",
       "218  2030-03-01  6985.0   6915.0  7218.0  6612.0\n",
       "219  2030-04-01  6949.0   6920.0  7201.0  6639.0\n",
       "220  2030-05-01  6993.0   6931.0  7203.0  6660.0\n",
       "221  2030-06-01  6929.0   6931.0  7181.0  6682.0\n",
       "222  2030-07-01  7075.0   6953.0  7234.0  6672.0\n",
       "223  2030-08-01  7248.0   6999.0  7421.0  6577.0\n",
       "224  2030-09-01  6904.0   6984.0  7387.0  6581.0\n",
       "225  2030-10-01  6991.0   6985.0  7356.0  6615.0\n",
       "226  2030-11-01  6919.0   6975.0  7324.0  6626.0\n",
       "227  2030-12-01  7011.0   6980.0  7304.0  6657.0"
      ]
     },
     "execution_count": 10,
     "metadata": {},
     "output_type": "execute_result"
    }
   ],
   "source": [
    "last_year_sales"
   ]
  },
  {
   "cell_type": "code",
   "execution_count": 11,
   "metadata": {},
   "outputs": [
    {
     "data": {
      "text/plain": [
       "83651.0"
      ]
     },
     "execution_count": 11,
     "metadata": {},
     "output_type": "execute_result"
    }
   ],
   "source": [
    "last_year_sales.sales.sum()"
   ]
  },
  {
   "cell_type": "code",
   "execution_count": 12,
   "metadata": {},
   "outputs": [
    {
     "data": {
      "text/plain": [
       "87282.0"
      ]
     },
     "execution_count": 12,
     "metadata": {},
     "output_type": "execute_result"
    }
   ],
   "source": [
    "last_year_sales.ub.sum()"
   ]
  },
  {
   "cell_type": "code",
   "execution_count": 13,
   "metadata": {},
   "outputs": [
    {
     "data": {
      "text/plain": [
       "79503.0"
      ]
     },
     "execution_count": 13,
     "metadata": {},
     "output_type": "execute_result"
    }
   ],
   "source": [
    "last_year_sales.lb.sum()"
   ]
  },
  {
   "cell_type": "code",
   "execution_count": null,
   "metadata": {},
   "outputs": [],
   "source": []
  }
 ],
 "metadata": {
  "kernelspec": {
   "display_name": "Python 3.9.12 ('base')",
   "language": "python",
   "name": "python3"
  },
  "language_info": {
   "codemirror_mode": {
    "name": "ipython",
    "version": 3
   },
   "file_extension": ".py",
   "mimetype": "text/x-python",
   "name": "python",
   "nbconvert_exporter": "python",
   "pygments_lexer": "ipython3",
   "version": "3.9.12"
  },
  "orig_nbformat": 4,
  "vscode": {
   "interpreter": {
    "hash": "38cca0c38332a56087b24af0bc80247f4fced29cb4f7f437d91dc159adec9c4e"
   }
  }
 },
 "nbformat": 4,
 "nbformat_minor": 2
}
